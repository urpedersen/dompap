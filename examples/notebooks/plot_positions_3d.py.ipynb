{
 "cells": [
  {
   "cell_type": "code",
   "execution_count": 1,
   "id": "initial_id",
   "metadata": {
    "ExecuteTime": {
     "end_time": "2024-02-07T15:50:54.141111681Z",
     "start_time": "2024-02-07T15:50:54.095576423Z"
    }
   },
   "outputs": [],
   "source": [
    "import pyvista\n",
    "import numpy as np\n",
    "import dompap as dp"
   ]
  },
  {
   "cell_type": "code",
   "execution_count": 2,
   "id": "7dc53a07efdce070",
   "metadata": {
    "ExecuteTime": {
     "end_time": "2024-02-07T15:55:23.412298902Z",
     "start_time": "2024-02-07T15:55:18.354893793Z"
    },
    "collapsed": false,
    "jupyter": {
     "outputs_hidden": false
    }
   },
   "outputs": [
    {
     "name": "stdout",
     "output_type": "stream",
     "text": [
      "sim.get_potential_energy()=1.5578524961597662\n",
      "sim.get_potential_energy()=1.3445792404306944\n",
      "sim.get_potential_energy()=1.1800933602398833\n",
      "sim.get_potential_energy()=1.0447035993628146\n",
      "sim.get_potential_energy()=1.0029995926339537\n",
      "sim.get_potential_energy()=1.3550372170600302\n",
      "sim.get_potential_energy()=1.187816004647456\n",
      "sim.get_potential_energy()=1.1846200184910223\n",
      "sim.get_potential_energy()=1.002604917337113\n",
      "sim.get_potential_energy()=1.1349644921014759\n"
     ]
    }
   ],
   "source": [
    "# Setup and run simulation\n",
    "sim = dp.Simulation()\n",
    "sim.set_integrator(target_temperature=0.01, time_step=0.01)\n",
    "for _ in range(10):\n",
    "    sim.run(200)\n",
    "    print(f'{sim.get_potential_energy()=}')"
   ]
  },
  {
   "cell_type": "code",
   "execution_count": 3,
   "id": "a25a8a3770939708",
   "metadata": {
    "ExecuteTime": {
     "end_time": "2024-02-07T15:59:11.881717418Z",
     "start_time": "2024-02-07T15:59:11.553878775Z"
    },
    "collapsed": false,
    "jupyter": {
     "outputs_hidden": false
    }
   },
   "outputs": [
    {
     "data": {
      "application/vnd.jupyter.widget-view+json": {
       "model_id": "4e1779ae568e459587370d57d2881ec6",
       "version_major": 2,
       "version_minor": 0
      },
      "text/plain": [
       "Widget(value='<iframe src=\"http://localhost:38701/index.html?ui=P_0x7f76114b1690_0&reconnect=auto\" class=\"pyvi…"
      ]
     },
     "metadata": {},
     "output_type": "display_data"
    }
   ],
   "source": [
    "# Use pyvista to visualize the positions (point cloud)\n",
    "pdata = pyvista.PolyData(sim.positions)\n",
    "\n",
    "# create many spheres from the point cloud\n",
    "sphere = pyvista.Sphere(radius=0.5, phi_resolution=32, theta_resolution=32)\n",
    "pc = pdata.glyph(scale=False, geom=sphere, orient=False)\n",
    "\n",
    "pc.plot()"
   ]
  }
 ],
 "metadata": {
  "kernelspec": {
   "display_name": "Python 3 (ipykernel)",
   "language": "python",
   "name": "python3"
  },
  "language_info": {
   "codemirror_mode": {
    "name": "ipython",
    "version": 3
   },
   "file_extension": ".py",
   "mimetype": "text/x-python",
   "name": "python",
   "nbconvert_exporter": "python",
   "pygments_lexer": "ipython3",
   "version": "3.11.2"
  },
  "widgets": {
   "application/vnd.jupyter.widget-state+json": {
    "state": {
     "4e1779ae568e459587370d57d2881ec6": {
      "model_module": "@jupyter-widgets/controls",
      "model_module_version": "2.0.0",
      "model_name": "HTMLModel",
      "state": {
       "layout": "IPY_MODEL_8057e43d6f8e45e3b979acbf09dd6efa",
       "style": "IPY_MODEL_9a304f1792af40029160c00c4606108c",
       "value": "<iframe src=\"http://localhost:38701/index.html?ui=P_0x7f76114b1690_0&reconnect=auto\" class=\"pyvista\" style=\"width: 99%; height: 600px; border: 1px solid rgb(221,221,221);\"></iframe>"
      }
     },
     "8057e43d6f8e45e3b979acbf09dd6efa": {
      "model_module": "@jupyter-widgets/base",
      "model_module_version": "2.0.0",
      "model_name": "LayoutModel",
      "state": {}
     },
     "9a304f1792af40029160c00c4606108c": {
      "model_module": "@jupyter-widgets/controls",
      "model_module_version": "2.0.0",
      "model_name": "HTMLStyleModel",
      "state": {
       "description_width": "",
       "font_size": null,
       "text_color": null
      }
     }
    },
    "version_major": 2,
    "version_minor": 0
   }
  }
 },
 "nbformat": 4,
 "nbformat_minor": 5
}
