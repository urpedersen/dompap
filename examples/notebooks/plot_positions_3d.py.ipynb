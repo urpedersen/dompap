{
 "cells": [
  {
   "cell_type": "code",
   "execution_count": 1,
   "id": "initial_id",
   "metadata": {
    "ExecuteTime": {
     "end_time": "2024-02-07T15:50:54.141111681Z",
     "start_time": "2024-02-07T15:50:54.095576423Z"
    }
   },
   "outputs": [],
   "source": [
    "import pyvista\n",
    "import numpy as np\n",
    "import dompap as dp"
   ]
  },
  {
   "cell_type": "code",
   "execution_count": 2,
   "id": "7dc53a07efdce070",
   "metadata": {
    "ExecuteTime": {
     "end_time": "2024-02-07T15:55:23.412298902Z",
     "start_time": "2024-02-07T15:55:18.354893793Z"
    },
    "collapsed": false,
    "jupyter": {
     "outputs_hidden": false
    }
   },
   "outputs": [
    {
     "name": "stdout",
     "output_type": "stream",
     "text": [
      "sim.get_potential_energy()=1.500331427888222\n",
      "sim.get_potential_energy()=1.2591164987541636\n",
      "sim.get_potential_energy()=1.2274842210638064\n",
      "sim.get_potential_energy()=1.2136068951059449\n",
      "sim.get_potential_energy()=1.245824130462509\n",
      "sim.get_potential_energy()=1.18845127573456\n",
      "sim.get_potential_energy()=1.1120766950819225\n",
      "sim.get_potential_energy()=1.1975760016739605\n",
      "sim.get_potential_energy()=1.2959259918973556\n",
      "sim.get_potential_energy()=1.2387725275048855\n"
     ]
    }
   ],
   "source": [
    "# Setup and run simulation\n",
    "sim = dp.Simulation()\n",
    "sim.set_integrator(target_temperature=0.01, time_step=0.01)\n",
    "for _ in range(10):\n",
    "    sim.run(200)\n",
    "    print(f'{sim.get_potential_energy()=}')"
   ]
  },
  {
   "cell_type": "code",
   "execution_count": 3,
   "id": "a25a8a3770939708",
   "metadata": {
    "ExecuteTime": {
     "end_time": "2024-02-07T15:59:11.881717418Z",
     "start_time": "2024-02-07T15:59:11.553878775Z"
    },
    "collapsed": false,
    "jupyter": {
     "outputs_hidden": false
    }
   },
   "outputs": [
    {
     "data": {
      "application/vnd.jupyter.widget-view+json": {
       "model_id": "6b57f933afb9477295807a13c2d966bb",
       "version_major": 2,
       "version_minor": 0
      },
      "text/plain": [
       "Widget(value='<iframe src=\"http://localhost:40581/index.html?ui=P_0x7efd460b9690_0&reconnect=auto\" class=\"pyvi…"
      ]
     },
     "metadata": {},
     "output_type": "display_data"
    }
   ],
   "source": [
    "# Use pyvista to visualize the positions (point cloud)\n",
    "pdata = pyvista.PolyData(sim.positions)\n",
    "\n",
    "# create many spheres from the point cloud\n",
    "sphere = pyvista.Sphere(radius=0.5, phi_resolution=32, theta_resolution=32)\n",
    "pc = pdata.glyph(scale=False, geom=sphere, orient=False)\n",
    "\n",
    "pc.plot()"
   ]
  },
  {
   "cell_type": "code",
   "execution_count": null,
   "id": "5cc48446f8d6e198",
   "metadata": {
    "collapsed": false,
    "jupyter": {
     "outputs_hidden": false
    }
   },
   "outputs": [],
   "source": []
  }
 ],
 "metadata": {
  "kernelspec": {
   "display_name": "Python 3 (ipykernel)",
   "language": "python",
   "name": "python3"
  },
  "language_info": {
   "codemirror_mode": {
    "name": "ipython",
    "version": 3
   },
   "file_extension": ".py",
   "mimetype": "text/x-python",
   "name": "python",
   "nbconvert_exporter": "python",
   "pygments_lexer": "ipython3",
   "version": "3.11.2"
  },
  "widgets": {
   "application/vnd.jupyter.widget-state+json": {
    "state": {
     "6b57f933afb9477295807a13c2d966bb": {
      "model_module": "@jupyter-widgets/controls",
      "model_module_version": "2.0.0",
      "model_name": "HTMLModel",
      "state": {
       "layout": "IPY_MODEL_a518e270d0434901a9dcd57a0b9726a2",
       "style": "IPY_MODEL_ac8e67e85e2b472983e77a02972a1833",
       "value": "<iframe src=\"http://localhost:40581/index.html?ui=P_0x7efd460b9690_0&reconnect=auto\" class=\"pyvista\" style=\"width: 99%; height: 600px; border: 1px solid rgb(221,221,221);\"></iframe>"
      }
     },
     "a518e270d0434901a9dcd57a0b9726a2": {
      "model_module": "@jupyter-widgets/base",
      "model_module_version": "2.0.0",
      "model_name": "LayoutModel",
      "state": {}
     },
     "ac8e67e85e2b472983e77a02972a1833": {
      "model_module": "@jupyter-widgets/controls",
      "model_module_version": "2.0.0",
      "model_name": "HTMLStyleModel",
      "state": {
       "description_width": "",
       "font_size": null,
       "text_color": null
      }
     }
    },
    "version_major": 2,
    "version_minor": 0
   }
  }
 },
 "nbformat": 4,
 "nbformat_minor": 5
}
